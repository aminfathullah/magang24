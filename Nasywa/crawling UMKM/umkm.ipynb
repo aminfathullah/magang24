{
 "cells": [
  {
   "cell_type": "code",
   "execution_count": null,
   "metadata": {},
   "outputs": [],
   "source": [
    "import requests\n",
    "from concurrent.futures import ThreadPoolExecutor\n",
    "import pandas as pd\n",
    "\n",
    "def fetch_data(url):\n",
    "    response = requests.get(url)\n",
    "    if response.status_code == 200:\n",
    "        return response.json()\n",
    "    else:\n",
    "        print(f\"Failed to fetch data from {url}\")\n",
    "        return None\n",
    "\n",
    "def fetch_umkm_data(base_url, page):\n",
    "    page_url = f\"{base_url}/{page}\"\n",
    "    result = fetch_data(page_url)\n",
    "    if result and 'empData' in result:\n",
    "        return result['empData']\n",
    "    else:\n",
    "        return []\n",
    "\n",
    "def fetch_all_umkm_data(base_url, total_records):\n",
    "    num_pages = total_records // 10 + 1  \n",
    "    with ThreadPoolExecutor(max_workers=10) as executor:\n",
    "        futures = [executor.submit(fetch_umkm_data, base_url, page) for page in range(1, num_pages + 1)]\n",
    "\n",
    "        results = []\n",
    "        for future in futures:\n",
    "            results.extend(future.result())\n",
    "            if len(results) >= total_records:\n",
    "                break\n",
    "\n",
    "    return results[:total_records]\n",
    "\n",
    "def main():\n",
    "    base_url = \"https://data.diskopukm.jatimprov.go.id/satu_data/webnya/loadData/0\"\n",
    "    total_records = 150000\n",
    "\n",
    "    umkm_data = fetch_all_umkm_data(base_url, total_records)\n",
    "    \n",
    "    if umkm_data:\n",
    "        umkm_df = pd.DataFrame(umkm_data)\n",
    "        print(umkm_df.to_string(index=False))\n",
    "\n",
    "        print(f\"{total_records} data.\")\n",
    "\n",
    "if __name__ == \"__main__\":\n",
    "    main()"
   ]
  }
 ],
 "metadata": {
  "language_info": {
   "name": "python"
  }
 },
 "nbformat": 4,
 "nbformat_minor": 2
}
