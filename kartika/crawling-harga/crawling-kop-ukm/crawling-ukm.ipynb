{
 "cells": [
  {
   "cell_type": "code",
   "execution_count": null,
   "metadata": {},
   "outputs": [],
   "source": [
    "#crawling umkm\n",
    "import requests\n",
    "import pandas as pd\n",
    "\n",
    "def fetch_data(url):\n",
    "    response = requests.get(url)\n",
    "    if response.status_code == 200:\n",
    "        return response.json()\n",
    "    else:\n",
    "        print(f\"Gagal mengambil data dari {url}\")\n",
    "        return None\n",
    "\n",
    "def fetch_umkm_data(base_url, page):\n",
    "    page_url = f\"{base_url}/{page}\"\n",
    "    result = fetch_data(page_url)\n",
    "    if result and 'empData' in result:\n",
    "        return result['empData']\n",
    "    else:\n",
    "        return []\n",
    "\n",
    "def fetch_all_umkm_data(base_url, total_records):\n",
    "    num_pages = total_records // 10 + 1\n",
    "    results = []\n",
    "    for page in range(1, num_pages + 1):\n",
    "        page_data = fetch_umkm_data(base_url, page)\n",
    "        results.extend(page_data)\n",
    "        if len(results) >= total_records:\n",
    "            break\n",
    "\n",
    "    return results[:total_records]\n",
    "\n",
    "def main():\n",
    "    base_url = \"https://data.diskopukm.jatimprov.go.id/satu_data/webnya/loadData/0\"\n",
    "    total_records = 350000\n",
    "\n",
    "    umkm_data = fetch_all_umkm_data(base_url, total_records)\n",
    "\n",
    "    if umkm_data:\n",
    "        umkm_df = pd.DataFrame(umkm_data)\n",
    "        print(umkm_df.to_string(index=False))\n",
    "\n",
    "        print(f\"Total data: {total_records}\")\n",
    "\n",
    "if __name__ == \"__main__\":\n",
    "    main()\n"
   ]
  }
 ],
 "metadata": {
  "language_info": {
   "name": "python"
  }
 },
 "nbformat": 4,
 "nbformat_minor": 2
}
